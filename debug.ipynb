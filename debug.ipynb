{
 "cells": [
  {
   "cell_type": "code",
   "execution_count": 1,
   "metadata": {},
   "outputs": [],
   "source": [
    "import os"
   ]
  },
  {
   "cell_type": "code",
   "execution_count": 2,
   "metadata": {},
   "outputs": [],
   "source": [
    "with open('./tmp.txt', 'r') as f:\n",
    "    meta = f.readlines()"
   ]
  },
  {
   "cell_type": "code",
   "execution_count": 4,
   "metadata": {},
   "outputs": [],
   "source": [
    "meta = [x.strip() for x in meta]"
   ]
  },
  {
   "cell_type": "code",
   "execution_count": 6,
   "metadata": {},
   "outputs": [],
   "source": [
    "meta = [f\"VidGen_video_{x}.zip\" for x in meta] "
   ]
  },
  {
   "cell_type": "code",
   "execution_count": 8,
   "metadata": {},
   "outputs": [],
   "source": [
    "cmd = \"huggingface-cli download --repo-type dataset --resume-download Fudan-FUXI/VIDGEN-1M \"\n",
    "for x in meta:\n",
    "    cmd += x + \" \"\n",
    "cmd += \"--local-dir Fudan-FUXI/VIDGEN-1M\""
   ]
  },
  {
   "cell_type": "code",
   "execution_count": 9,
   "metadata": {},
   "outputs": [
    {
     "data": {
      "text/plain": [
       "'huggingface-cli download --repo-type dataset --resume-download Fudan-FUXI/VIDGEN-1M VidGen_video_16.zip VidGen_video_17.zip VidGen_video_18.zip VidGen_video_19.zip VidGen_video_134.zip VidGen_video_135.zip VidGen_video_136.zip VidGen_video_137.zip VidGen_video_138.zip VidGen_video_139.zip VidGen_video_140.zip VidGen_video_141.zip VidGen_video_142.zip VidGen_video_143.zip VidGen_video_144.zip VidGen_video_145.zip VidGen_video_146.zip VidGen_video_147.zip VidGen_video_148.zip VidGen_video_149.zip VidGen_video_150.zip VidGen_video_151.zip VidGen_video_152.zip VidGen_video_153.zip VidGen_video_154.zip VidGen_video_155.zip VidGen_video_156.zip VidGen_video_157.zip VidGen_video_158.zip VidGen_video_159.zip VidGen_video_160.zip VidGen_video_161.zip VidGen_video_162.zip VidGen_video_163.zip VidGen_video_164.zip VidGen_video_165.zip VidGen_video_166.zip VidGen_video_167.zip VidGen_video_168.zip VidGen_video_169.zip VidGen_video_170.zip VidGen_video_171.zip VidGen_video_172.zip VidGen_video_173.zip VidGen_video_174.zip VidGen_video_175.zip VidGen_video_176.zip VidGen_video_177.zip VidGen_video_178.zip VidGen_video_179.zip VidGen_video_180.zip VidGen_video_181.zip VidGen_video_182.zip VidGen_video_183.zip VidGen_video_184.zip VidGen_video_185.zip VidGen_video_186.zip VidGen_video_187.zip VidGen_video_188.zip VidGen_video_189.zip VidGen_video_190.zip VidGen_video_191.zip VidGen_video_192.zip VidGen_video_193.zip VidGen_video_194.zip VidGen_video_195.zip VidGen_video_196.zip VidGen_video_197.zip VidGen_video_198.zip VidGen_video_199.zip VidGen_video_1315.zip VidGen_video_1335.zip VidGen_video_1336.zip VidGen_video_1337.zip VidGen_video_1340.zip VidGen_video_1341.zip VidGen_video_1342.zip VidGen_video_1343.zip VidGen_video_1344.zip VidGen_video_1345.zip VidGen_video_1346.zip VidGen_video_1347.zip VidGen_video_1348.zip VidGen_video_1349.zip VidGen_video_1350.zip VidGen_video_1351.zip VidGen_video_1352.zip VidGen_video_1353.zip VidGen_video_1354.zip VidGen_video_1355.zip VidGen_video_1356.zip VidGen_video_1357.zip VidGen_video_1358.zip VidGen_video_1359.zip VidGen_video_1360.zip VidGen_video_1361.zip VidGen_video_1362.zip VidGen_video_1363.zip VidGen_video_1364.zip VidGen_video_1365.zip VidGen_video_1366.zip VidGen_video_1367.zip VidGen_video_1368.zip VidGen_video_1369.zip VidGen_video_1370.zip VidGen_video_1371.zip VidGen_video_1372.zip VidGen_video_1373.zip VidGen_video_1374.zip VidGen_video_1375.zip VidGen_video_1376.zip VidGen_video_1377.zip VidGen_video_1378.zip VidGen_video_1379.zip VidGen_video_1380.zip VidGen_video_1381.zip VidGen_video_1382.zip VidGen_video_1383.zip VidGen_video_1384.zip VidGen_video_1385.zip VidGen_video_1386.zip VidGen_video_1387.zip VidGen_video_1388.zip VidGen_video_1389.zip VidGen_video_1390.zip VidGen_video_1391.zip VidGen_video_1392.zip VidGen_video_1393.zip VidGen_video_1394.zip VidGen_video_1395.zip VidGen_video_1396.zip VidGen_video_1397.zip VidGen_video_1398.zip VidGen_video_1399.zip VidGen_video_1400.zip VidGen_video_1401.zip VidGen_video_1402.zip VidGen_video_1403.zip VidGen_video_1404.zip VidGen_video_1405.zip VidGen_video_1406.zip VidGen_video_1407.zip VidGen_video_1408.zip VidGen_video_1409.zip VidGen_video_1410.zip VidGen_video_1411.zip VidGen_video_1412.zip VidGen_video_1413.zip VidGen_video_1414.zip VidGen_video_1415.zip VidGen_video_1416.zip VidGen_video_1417.zip VidGen_video_1418.zip VidGen_video_1419.zip VidGen_video_1420.zip VidGen_video_1421.zip VidGen_video_1422.zip VidGen_video_1423.zip VidGen_video_1424.zip VidGen_video_1425.zip VidGen_video_1426.zip VidGen_video_1427.zip VidGen_video_1428.zip VidGen_video_1429.zip VidGen_video_1430.zip VidGen_video_1431.zip VidGen_video_1432.zip VidGen_video_1433.zip VidGen_video_1434.zip VidGen_video_1435.zip VidGen_video_1436.zip VidGen_video_1437.zip VidGen_video_1438.zip VidGen_video_1439.zip VidGen_video_1440.zip VidGen_video_1441.zip VidGen_video_1442.zip VidGen_video_1443.zip VidGen_video_1444.zip VidGen_video_1445.zip VidGen_video_1446.zip VidGen_video_1447.zip VidGen_video_1448.zip VidGen_video_1449.zip VidGen_video_1450.zip VidGen_video_1451.zip VidGen_video_1452.zip VidGen_video_1453.zip VidGen_video_1454.zip VidGen_video_1455.zip VidGen_video_1456.zip VidGen_video_1457.zip VidGen_video_1458.zip VidGen_video_1459.zip VidGen_video_1460.zip VidGen_video_1461.zip VidGen_video_1462.zip VidGen_video_1463.zip VidGen_video_1464.zip VidGen_video_1465.zip VidGen_video_1466.zip VidGen_video_1467.zip VidGen_video_1468.zip VidGen_video_1469.zip VidGen_video_1470.zip VidGen_video_1471.zip VidGen_video_1472.zip VidGen_video_1473.zip VidGen_video_1474.zip VidGen_video_1475.zip VidGen_video_1476.zip VidGen_video_1477.zip VidGen_video_1478.zip VidGen_video_1479.zip VidGen_video_1480.zip VidGen_video_1481.zip VidGen_video_1482.zip VidGen_video_1483.zip VidGen_video_1484.zip VidGen_video_1485.zip VidGen_video_1486.zip VidGen_video_1487.zip VidGen_video_1488.zip VidGen_video_1489.zip VidGen_video_1490.zip VidGen_video_1491.zip VidGen_video_1492.zip VidGen_video_1493.zip VidGen_video_1494.zip VidGen_video_1495.zip VidGen_video_1496.zip VidGen_video_1497.zip VidGen_video_1498.zip VidGen_video_1499.zip VidGen_video_1500.zip VidGen_video_1501.zip VidGen_video_1502.zip VidGen_video_1503.zip VidGen_video_1504.zip VidGen_video_1505.zip VidGen_video_1506.zip VidGen_video_1507.zip VidGen_video_1508.zip VidGen_video_1509.zip VidGen_video_1510.zip VidGen_video_1511.zip VidGen_video_1512.zip VidGen_video_1513.zip VidGen_video_1514.zip VidGen_video_1515.zip VidGen_video_1516.zip VidGen_video_1517.zip VidGen_video_1518.zip VidGen_video_1519.zip VidGen_video_1520.zip VidGen_video_1521.zip VidGen_video_1522.zip VidGen_video_1523.zip VidGen_video_1524.zip VidGen_video_1525.zip VidGen_video_1526.zip VidGen_video_1527.zip VidGen_video_1528.zip VidGen_video_1529.zip VidGen_video_1530.zip VidGen_video_1531.zip VidGen_video_1532.zip VidGen_video_1533.zip VidGen_video_1534.zip VidGen_video_1535.zip VidGen_video_1536.zip VidGen_video_1537.zip VidGen_video_1538.zip VidGen_video_1539.zip VidGen_video_1540.zip VidGen_video_1541.zip VidGen_video_1542.zip VidGen_video_1543.zip VidGen_video_1544.zip VidGen_video_1545.zip VidGen_video_1546.zip VidGen_video_1547.zip VidGen_video_1548.zip VidGen_video_1549.zip VidGen_video_1550.zip VidGen_video_1551.zip VidGen_video_1552.zip VidGen_video_1553.zip VidGen_video_1554.zip VidGen_video_1555.zip VidGen_video_1556.zip VidGen_video_1557.zip VidGen_video_1558.zip VidGen_video_1559.zip VidGen_video_1560.zip VidGen_video_1561.zip VidGen_video_1562.zip VidGen_video_1563.zip VidGen_video_1564.zip VidGen_video_1565.zip VidGen_video_1566.zip VidGen_video_1567.zip VidGen_video_1568.zip VidGen_video_1569.zip VidGen_video_1570.zip VidGen_video_1571.zip VidGen_video_1572.zip VidGen_video_1573.zip VidGen_video_1574.zip VidGen_video_1575.zip VidGen_video_1576.zip VidGen_video_1577.zip VidGen_video_1578.zip VidGen_video_1579.zip VidGen_video_1580.zip VidGen_video_1581.zip VidGen_video_1582.zip VidGen_video_1583.zip VidGen_video_1584.zip VidGen_video_1585.zip VidGen_video_1586.zip VidGen_video_1587.zip VidGen_video_1588.zip VidGen_video_1589.zip VidGen_video_1590.zip VidGen_video_1591.zip VidGen_video_1592.zip VidGen_video_1593.zip VidGen_video_1594.zip VidGen_video_1595.zip VidGen_video_1596.zip VidGen_video_1597.zip VidGen_video_1598.zip VidGen_video_1599.zip VidGen_video_1600.zip VidGen_video_1601.zip VidGen_video_1602.zip VidGen_video_1603.zip VidGen_video_1604.zip VidGen_video_1605.zip VidGen_video_1606.zip VidGen_video_1607.zip VidGen_video_1608.zip VidGen_video_1609.zip VidGen_video_1610.zip VidGen_video_1611.zip VidGen_video_1612.zip VidGen_video_1613.zip VidGen_video_1614.zip VidGen_video_1615.zip VidGen_video_1616.zip VidGen_video_1617.zip VidGen_video_1618.zip VidGen_video_1619.zip VidGen_video_1620.zip VidGen_video_1621.zip VidGen_video_1622.zip VidGen_video_1623.zip VidGen_video_1624.zip VidGen_video_1625.zip VidGen_video_1626.zip VidGen_video_1627.zip VidGen_video_1628.zip VidGen_video_1629.zip VidGen_video_1630.zip VidGen_video_1631.zip VidGen_video_1632.zip VidGen_video_1633.zip VidGen_video_1634.zip VidGen_video_1635.zip VidGen_video_1636.zip VidGen_video_1637.zip VidGen_video_1638.zip VidGen_video_1639.zip VidGen_video_1640.zip VidGen_video_1641.zip VidGen_video_1642.zip VidGen_video_1643.zip VidGen_video_1644.zip VidGen_video_1645.zip VidGen_video_1646.zip VidGen_video_1647.zip VidGen_video_1648.zip VidGen_video_1649.zip VidGen_video_1650.zip VidGen_video_1651.zip VidGen_video_1652.zip VidGen_video_1653.zip VidGen_video_1654.zip VidGen_video_1655.zip VidGen_video_1656.zip VidGen_video_1657.zip VidGen_video_1658.zip VidGen_video_1659.zip VidGen_video_1660.zip VidGen_video_1661.zip VidGen_video_1662.zip VidGen_video_1663.zip VidGen_video_1664.zip VidGen_video_1665.zip VidGen_video_1666.zip VidGen_video_1667.zip VidGen_video_1668.zip VidGen_video_1669.zip VidGen_video_1670.zip VidGen_video_1671.zip VidGen_video_1672.zip VidGen_video_1673.zip VidGen_video_1674.zip VidGen_video_1675.zip VidGen_video_1676.zip VidGen_video_1677.zip VidGen_video_1678.zip VidGen_video_1679.zip VidGen_video_1680.zip VidGen_video_1681.zip VidGen_video_1682.zip VidGen_video_1683.zip VidGen_video_1684.zip VidGen_video_1685.zip VidGen_video_1686.zip VidGen_video_1687.zip VidGen_video_1688.zip VidGen_video_1689.zip VidGen_video_1690.zip VidGen_video_1691.zip VidGen_video_1692.zip VidGen_video_1693.zip VidGen_video_1694.zip VidGen_video_1695.zip VidGen_video_1696.zip VidGen_video_1697.zip VidGen_video_1698.zip VidGen_video_1699.zip VidGen_video_1700.zip VidGen_video_1701.zip VidGen_video_1702.zip VidGen_video_1703.zip VidGen_video_1704.zip VidGen_video_1705.zip VidGen_video_1706.zip VidGen_video_1707.zip VidGen_video_1708.zip VidGen_video_1709.zip VidGen_video_1710.zip VidGen_video_1711.zip VidGen_video_1712.zip VidGen_video_1713.zip VidGen_video_1714.zip VidGen_video_1715.zip VidGen_video_1716.zip VidGen_video_1717.zip VidGen_video_1718.zip VidGen_video_1719.zip VidGen_video_1720.zip VidGen_video_1721.zip VidGen_video_1722.zip VidGen_video_1723.zip VidGen_video_1724.zip VidGen_video_1725.zip VidGen_video_1726.zip VidGen_video_1727.zip VidGen_video_1728.zip VidGen_video_1729.zip VidGen_video_1730.zip VidGen_video_1731.zip VidGen_video_1732.zip VidGen_video_1733.zip VidGen_video_1734.zip VidGen_video_1735.zip VidGen_video_1736.zip VidGen_video_1737.zip VidGen_video_1738.zip VidGen_video_1739.zip VidGen_video_1740.zip VidGen_video_1741.zip VidGen_video_1742.zip VidGen_video_1743.zip VidGen_video_1744.zip VidGen_video_1745.zip VidGen_video_1746.zip VidGen_video_1747.zip VidGen_video_1748.zip VidGen_video_1749.zip VidGen_video_1750.zip VidGen_video_1751.zip VidGen_video_1752.zip VidGen_video_1753.zip VidGen_video_1754.zip VidGen_video_1755.zip VidGen_video_1756.zip VidGen_video_1757.zip VidGen_video_1758.zip VidGen_video_1759.zip VidGen_video_1760.zip VidGen_video_1761.zip VidGen_video_1762.zip VidGen_video_1763.zip VidGen_video_1764.zip VidGen_video_1765.zip VidGen_video_1766.zip VidGen_video_1767.zip VidGen_video_1768.zip VidGen_video_1769.zip VidGen_video_1770.zip VidGen_video_1771.zip VidGen_video_1772.zip VidGen_video_1773.zip VidGen_video_1774.zip VidGen_video_1775.zip VidGen_video_1776.zip VidGen_video_1777.zip VidGen_video_1778.zip VidGen_video_1779.zip VidGen_video_1780.zip VidGen_video_1781.zip VidGen_video_1782.zip VidGen_video_1783.zip VidGen_video_1784.zip VidGen_video_1785.zip VidGen_video_1786.zip VidGen_video_1787.zip VidGen_video_1788.zip VidGen_video_1789.zip VidGen_video_1790.zip VidGen_video_1791.zip VidGen_video_1792.zip VidGen_video_1793.zip VidGen_video_1794.zip VidGen_video_1795.zip VidGen_video_1796.zip VidGen_video_1797.zip VidGen_video_1798.zip VidGen_video_1799.zip VidGen_video_1800.zip VidGen_video_1801.zip VidGen_video_1802.zip VidGen_video_1803.zip VidGen_video_1804.zip VidGen_video_1805.zip VidGen_video_1806.zip VidGen_video_1807.zip VidGen_video_1808.zip VidGen_video_1809.zip VidGen_video_1810.zip VidGen_video_1811.zip VidGen_video_1812.zip VidGen_video_1813.zip VidGen_video_1814.zip VidGen_video_1815.zip VidGen_video_1816.zip VidGen_video_1817.zip VidGen_video_1818.zip VidGen_video_1819.zip VidGen_video_1820.zip VidGen_video_1821.zip VidGen_video_1822.zip VidGen_video_1823.zip VidGen_video_1824.zip VidGen_video_1825.zip VidGen_video_1826.zip VidGen_video_1827.zip VidGen_video_1828.zip VidGen_video_1829.zip VidGen_video_1830.zip VidGen_video_1831.zip VidGen_video_1832.zip VidGen_video_1833.zip VidGen_video_1834.zip VidGen_video_1835.zip VidGen_video_1836.zip VidGen_video_1837.zip VidGen_video_1838.zip VidGen_video_1839.zip VidGen_video_1840.zip VidGen_video_1841.zip VidGen_video_1842.zip VidGen_video_1843.zip VidGen_video_1844.zip VidGen_video_1845.zip VidGen_video_1846.zip VidGen_video_1847.zip VidGen_video_1848.zip VidGen_video_1849.zip VidGen_video_1850.zip VidGen_video_1851.zip VidGen_video_1852.zip VidGen_video_1853.zip VidGen_video_1854.zip VidGen_video_1855.zip VidGen_video_1856.zip VidGen_video_1857.zip VidGen_video_1858.zip VidGen_video_1859.zip VidGen_video_1860.zip VidGen_video_1861.zip VidGen_video_1862.zip VidGen_video_1863.zip VidGen_video_1864.zip VidGen_video_1865.zip VidGen_video_1866.zip VidGen_video_1867.zip VidGen_video_1868.zip VidGen_video_1869.zip VidGen_video_1870.zip VidGen_video_1871.zip VidGen_video_1872.zip VidGen_video_1873.zip VidGen_video_1874.zip VidGen_video_1875.zip VidGen_video_1876.zip VidGen_video_1877.zip VidGen_video_1878.zip VidGen_video_1879.zip VidGen_video_1880.zip VidGen_video_1881.zip VidGen_video_1882.zip VidGen_video_1883.zip VidGen_video_1884.zip VidGen_video_1885.zip VidGen_video_1886.zip VidGen_video_1887.zip VidGen_video_1888.zip VidGen_video_1889.zip VidGen_video_1890.zip VidGen_video_1891.zip VidGen_video_1892.zip VidGen_video_1893.zip VidGen_video_1894.zip VidGen_video_1895.zip VidGen_video_1896.zip VidGen_video_1897.zip VidGen_video_1898.zip VidGen_video_1899.zip VidGen_video_1900.zip VidGen_video_1901.zip VidGen_video_1902.zip VidGen_video_1903.zip VidGen_video_1904.zip VidGen_video_1905.zip VidGen_video_1906.zip VidGen_video_1907.zip VidGen_video_1908.zip VidGen_video_1909.zip VidGen_video_1910.zip VidGen_video_1911.zip VidGen_video_1912.zip VidGen_video_1913.zip VidGen_video_1914.zip VidGen_video_1915.zip VidGen_video_1916.zip VidGen_video_1917.zip VidGen_video_1918.zip VidGen_video_1919.zip VidGen_video_1920.zip VidGen_video_1921.zip VidGen_video_1922.zip VidGen_video_1923.zip VidGen_video_1924.zip VidGen_video_1925.zip VidGen_video_1926.zip VidGen_video_1927.zip VidGen_video_1928.zip VidGen_video_1929.zip VidGen_video_1930.zip VidGen_video_1931.zip VidGen_video_1932.zip VidGen_video_1933.zip VidGen_video_1934.zip VidGen_video_1935.zip VidGen_video_1936.zip VidGen_video_1937.zip VidGen_video_1938.zip VidGen_video_1939.zip VidGen_video_1940.zip VidGen_video_1941.zip VidGen_video_1942.zip VidGen_video_1943.zip VidGen_video_1944.zip VidGen_video_1945.zip VidGen_video_1946.zip VidGen_video_1947.zip VidGen_video_1948.zip VidGen_video_1949.zip VidGen_video_1950.zip VidGen_video_1951.zip VidGen_video_1952.zip VidGen_video_1953.zip VidGen_video_1954.zip VidGen_video_1955.zip VidGen_video_1956.zip VidGen_video_1957.zip VidGen_video_1958.zip VidGen_video_1959.zip VidGen_video_1960.zip VidGen_video_1961.zip VidGen_video_1962.zip VidGen_video_1963.zip VidGen_video_1964.zip VidGen_video_1965.zip VidGen_video_1966.zip VidGen_video_1967.zip VidGen_video_1968.zip VidGen_video_1969.zip VidGen_video_1970.zip VidGen_video_1971.zip VidGen_video_1972.zip VidGen_video_1973.zip VidGen_video_1974.zip VidGen_video_1975.zip VidGen_video_1976.zip VidGen_video_1977.zip VidGen_video_1978.zip VidGen_video_1979.zip VidGen_video_1980.zip VidGen_video_1981.zip VidGen_video_1982.zip VidGen_video_1983.zip VidGen_video_1984.zip VidGen_video_1985.zip VidGen_video_1986.zip VidGen_video_1987.zip VidGen_video_1988.zip VidGen_video_1989.zip VidGen_video_1990.zip VidGen_video_1991.zip VidGen_video_1992.zip VidGen_video_1993.zip VidGen_video_1994.zip VidGen_video_1995.zip VidGen_video_1996.zip VidGen_video_1997.zip VidGen_video_1998.zip VidGen_video_1999.zip --local-dir Fudan-FUXI/VIDGEN-1M'"
      ]
     },
     "execution_count": 9,
     "metadata": {},
     "output_type": "execute_result"
    }
   ],
   "source": [
    "cmd"
   ]
  }
 ],
 "metadata": {
  "kernelspec": {
   "display_name": "opensoraplan",
   "language": "python",
   "name": "python3"
  },
  "language_info": {
   "codemirror_mode": {
    "name": "ipython",
    "version": 3
   },
   "file_extension": ".py",
   "mimetype": "text/x-python",
   "name": "python",
   "nbconvert_exporter": "python",
   "pygments_lexer": "ipython3",
   "version": "3.8.19"
  }
 },
 "nbformat": 4,
 "nbformat_minor": 2
}
